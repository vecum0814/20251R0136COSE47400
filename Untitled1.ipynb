{
 "cells": [
  {
   "cell_type": "code",
   "execution_count": 1,
   "id": "1bec2d8b",
   "metadata": {},
   "outputs": [
    {
     "name": "stdout",
     "output_type": "stream",
     "text": [
      "AIHub_OCR_sample\t     JMYNLP\r\n",
      "AIHub_OCR_sample_compressed  Low.jpeg\r\n",
      "AIHub_OCR_sample.zip\t     Low_test2.jpeg\r\n",
      "AIHub_sample\t\t     Low_test.jpeg\r\n",
      "AIHub_sample.zip\t     Low_test_samesize.jpeg\r\n",
      "BasicSR\t\t\t     Normal.jpeg\r\n",
      "content\t\t\t     Normal_test.jpeg\r\n",
      "CRNN_Experiment.ipynb\t     Normal_test_samesize.jpeg\r\n",
      "crnn.pytorch\t\t     Original.jpeg\r\n",
      "crop_eval_result_001.csv     output_compressed\r\n",
      "crop_eval_result_002.csv     Real-ESRGAN\r\n",
      "cropped_all\t\t     Real-ESRGAN_Dataset.ipynb\r\n",
      "cropped_all_Low\t\t     Real-ESRGAN.ipynb\r\n",
      "data\t\t\t     rfdn_globalattn.ipynb\r\n",
      "DIV2K_train_HR.zip\t     RFDN.ipynb\r\n",
      "DIV2K_valid_HR.zip\t     TrOCR.ipynb\r\n",
      "DnCNN\t\t\t     Untitled1.ipynb\r\n",
      "dncnn_baseline.pth\t     Untitled.ipynb\r\n",
      "EDSR-PyTorch\t\t     weights\r\n",
      "EDSR-PyTorch-updated.zip\r\n"
     ]
    }
   ],
   "source": [
    "!ls"
   ]
  },
  {
   "cell_type": "code",
   "execution_count": null,
   "id": "924e6f19",
   "metadata": {},
   "outputs": [],
   "source": [
    "!rm -r NLP"
   ]
  },
  {
   "cell_type": "code",
   "execution_count": 2,
   "id": "e4a748c0",
   "metadata": {},
   "outputs": [],
   "source": [
    "!rm -rf crnn.pytorch"
   ]
  },
  {
   "cell_type": "code",
   "execution_count": 3,
   "id": "7353016e",
   "metadata": {},
   "outputs": [],
   "source": [
    "!rm -rf Real-ESRGAN"
   ]
  },
  {
   "cell_type": "code",
   "execution_count": 4,
   "id": "3ecac9e9",
   "metadata": {},
   "outputs": [],
   "source": [
    "!rm -rf cropped_all"
   ]
  },
  {
   "cell_type": "code",
   "execution_count": 5,
   "id": "4f5477a0",
   "metadata": {},
   "outputs": [],
   "source": [
    "!rm -rf cropped_all_Low"
   ]
  },
  {
   "cell_type": "code",
   "execution_count": 6,
   "id": "7861170a",
   "metadata": {},
   "outputs": [],
   "source": [
    "!rm -rf output_compressed"
   ]
  },
  {
   "cell_type": "code",
   "execution_count": 7,
   "id": "61ae31c6",
   "metadata": {},
   "outputs": [],
   "source": [
    "!rm -rf data"
   ]
  },
  {
   "cell_type": "code",
   "execution_count": 8,
   "id": "03e1abfb",
   "metadata": {},
   "outputs": [],
   "source": [
    "!rm -rf AIHub_OCR_sample"
   ]
  },
  {
   "cell_type": "code",
   "execution_count": 9,
   "id": "bffdba68",
   "metadata": {},
   "outputs": [],
   "source": [
    "!rm -rf AIHub_sample"
   ]
  },
  {
   "cell_type": "code",
   "execution_count": 10,
   "id": "0a0c5a2e",
   "metadata": {},
   "outputs": [],
   "source": [
    "!rm -rf DnCNN"
   ]
  },
  {
   "cell_type": "code",
   "execution_count": 11,
   "id": "4820c6dd",
   "metadata": {},
   "outputs": [],
   "source": [
    "!rm -rf NLP JMYNLP"
   ]
  },
  {
   "cell_type": "code",
   "execution_count": 12,
   "id": "9b6bab2f",
   "metadata": {},
   "outputs": [
    {
     "name": "stdout",
     "output_type": "stream",
     "text": [
      "AIHub_OCR_sample_compressed  EDSR-PyTorch\t\tRFDN.ipynb\r\n",
      "BasicSR\t\t\t     Real-ESRGAN_Dataset.ipynb\tTrOCR.ipynb\r\n",
      "content\t\t\t     Real-ESRGAN.ipynb\t\tUntitled1.ipynb\r\n",
      "CRNN_Experiment.ipynb\t     rfdn_globalattn.ipynb\r\n"
     ]
    }
   ],
   "source": [
    "!ls"
   ]
  },
  {
   "cell_type": "code",
   "execution_count": 13,
   "id": "af748811",
   "metadata": {},
   "outputs": [],
   "source": [
    "!rm -rf AIHub_OCR_sample_compressed"
   ]
  },
  {
   "cell_type": "code",
   "execution_count": null,
   "id": "50e6b897",
   "metadata": {},
   "outputs": [],
   "source": []
  }
 ],
 "metadata": {
  "kernelspec": {
   "display_name": "Python 3 (ipykernel)",
   "language": "python",
   "name": "python3"
  },
  "language_info": {
   "codemirror_mode": {
    "name": "ipython",
    "version": 3
   },
   "file_extension": ".py",
   "mimetype": "text/x-python",
   "name": "python",
   "nbconvert_exporter": "python",
   "pygments_lexer": "ipython3",
   "version": "3.10.13"
  }
 },
 "nbformat": 4,
 "nbformat_minor": 5
}
